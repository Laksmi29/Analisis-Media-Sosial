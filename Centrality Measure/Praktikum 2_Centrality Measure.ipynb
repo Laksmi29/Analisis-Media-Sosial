{
  "nbformat": 4,
  "nbformat_minor": 0,
  "metadata": {
    "colab": {
      "provenance": []
    },
    "kernelspec": {
      "name": "python3",
      "display_name": "Python 3"
    },
    "language_info": {
      "name": "python"
    }
  },
  "cells": [
    {
      "cell_type": "code",
      "execution_count": null,
      "metadata": {
        "id": "nfAFFQ9TJ6l1"
      },
      "outputs": [],
      "source": [
        "import numpy as np\n",
        "import pandas as pd\n",
        "import matplotlib.pyplot as plt\n",
        "import networkx as nx"
      ]
    },
    {
      "cell_type": "code",
      "source": [
        "#Insert data dari Excel\n",
        "data = pd.read_excel('data_tugas2.xlsx')\n",
        "data"
      ],
      "metadata": {
        "colab": {
          "base_uri": "https://localhost:8080/",
          "height": 739
        },
        "id": "Xsy4USHrKcSu",
        "outputId": "c4c67bc2-9ab1-4bd9-8b6f-4db76dc63324"
      },
      "execution_count": null,
      "outputs": [
        {
          "output_type": "execute_result",
          "data": {
            "text/plain": [
              "          Mhs1    Mhs2\n",
              "0       Alifia  Laksmi\n",
              "1        Faldo  Laksmi\n",
              "2       Alifia   Faldo\n",
              "3         Gery   Faldo\n",
              "4         Lulu    Dila\n",
              "5        Virgi    Dila\n",
              "6         Popy   Virgi\n",
              "7       Alifia   Galuh\n",
              "8        Galuh  Luthfi\n",
              "9       Luthfi    Azka\n",
              "10      Luthfi   Latif\n",
              "11       Latif   Fajar\n",
              "12       Latif    Azka\n",
              "13  Abdurahman   Latif\n",
              "14  Abdurahman    Putu\n",
              "15  Abdurahman   Mirza\n",
              "16       Mirza    Putu\n",
              "17       Akbar    Putu\n",
              "18        Putu   Galuh\n",
              "19      Alifia   Gayuh\n",
              "20      Alifia   Indah\n",
              "21      Laksmi    Gery"
            ],
            "text/html": [
              "\n",
              "  <div id=\"df-4178bb22-ee75-4fc8-936c-66f83ea8f3cd\">\n",
              "    <div class=\"colab-df-container\">\n",
              "      <div>\n",
              "<style scoped>\n",
              "    .dataframe tbody tr th:only-of-type {\n",
              "        vertical-align: middle;\n",
              "    }\n",
              "\n",
              "    .dataframe tbody tr th {\n",
              "        vertical-align: top;\n",
              "    }\n",
              "\n",
              "    .dataframe thead th {\n",
              "        text-align: right;\n",
              "    }\n",
              "</style>\n",
              "<table border=\"1\" class=\"dataframe\">\n",
              "  <thead>\n",
              "    <tr style=\"text-align: right;\">\n",
              "      <th></th>\n",
              "      <th>Mhs1</th>\n",
              "      <th>Mhs2</th>\n",
              "    </tr>\n",
              "  </thead>\n",
              "  <tbody>\n",
              "    <tr>\n",
              "      <th>0</th>\n",
              "      <td>Alifia</td>\n",
              "      <td>Laksmi</td>\n",
              "    </tr>\n",
              "    <tr>\n",
              "      <th>1</th>\n",
              "      <td>Faldo</td>\n",
              "      <td>Laksmi</td>\n",
              "    </tr>\n",
              "    <tr>\n",
              "      <th>2</th>\n",
              "      <td>Alifia</td>\n",
              "      <td>Faldo</td>\n",
              "    </tr>\n",
              "    <tr>\n",
              "      <th>3</th>\n",
              "      <td>Gery</td>\n",
              "      <td>Faldo</td>\n",
              "    </tr>\n",
              "    <tr>\n",
              "      <th>4</th>\n",
              "      <td>Lulu</td>\n",
              "      <td>Dila</td>\n",
              "    </tr>\n",
              "    <tr>\n",
              "      <th>5</th>\n",
              "      <td>Virgi</td>\n",
              "      <td>Dila</td>\n",
              "    </tr>\n",
              "    <tr>\n",
              "      <th>6</th>\n",
              "      <td>Popy</td>\n",
              "      <td>Virgi</td>\n",
              "    </tr>\n",
              "    <tr>\n",
              "      <th>7</th>\n",
              "      <td>Alifia</td>\n",
              "      <td>Galuh</td>\n",
              "    </tr>\n",
              "    <tr>\n",
              "      <th>8</th>\n",
              "      <td>Galuh</td>\n",
              "      <td>Luthfi</td>\n",
              "    </tr>\n",
              "    <tr>\n",
              "      <th>9</th>\n",
              "      <td>Luthfi</td>\n",
              "      <td>Azka</td>\n",
              "    </tr>\n",
              "    <tr>\n",
              "      <th>10</th>\n",
              "      <td>Luthfi</td>\n",
              "      <td>Latif</td>\n",
              "    </tr>\n",
              "    <tr>\n",
              "      <th>11</th>\n",
              "      <td>Latif</td>\n",
              "      <td>Fajar</td>\n",
              "    </tr>\n",
              "    <tr>\n",
              "      <th>12</th>\n",
              "      <td>Latif</td>\n",
              "      <td>Azka</td>\n",
              "    </tr>\n",
              "    <tr>\n",
              "      <th>13</th>\n",
              "      <td>Abdurahman</td>\n",
              "      <td>Latif</td>\n",
              "    </tr>\n",
              "    <tr>\n",
              "      <th>14</th>\n",
              "      <td>Abdurahman</td>\n",
              "      <td>Putu</td>\n",
              "    </tr>\n",
              "    <tr>\n",
              "      <th>15</th>\n",
              "      <td>Abdurahman</td>\n",
              "      <td>Mirza</td>\n",
              "    </tr>\n",
              "    <tr>\n",
              "      <th>16</th>\n",
              "      <td>Mirza</td>\n",
              "      <td>Putu</td>\n",
              "    </tr>\n",
              "    <tr>\n",
              "      <th>17</th>\n",
              "      <td>Akbar</td>\n",
              "      <td>Putu</td>\n",
              "    </tr>\n",
              "    <tr>\n",
              "      <th>18</th>\n",
              "      <td>Putu</td>\n",
              "      <td>Galuh</td>\n",
              "    </tr>\n",
              "    <tr>\n",
              "      <th>19</th>\n",
              "      <td>Alifia</td>\n",
              "      <td>Gayuh</td>\n",
              "    </tr>\n",
              "    <tr>\n",
              "      <th>20</th>\n",
              "      <td>Alifia</td>\n",
              "      <td>Indah</td>\n",
              "    </tr>\n",
              "    <tr>\n",
              "      <th>21</th>\n",
              "      <td>Laksmi</td>\n",
              "      <td>Gery</td>\n",
              "    </tr>\n",
              "  </tbody>\n",
              "</table>\n",
              "</div>\n",
              "      <button class=\"colab-df-convert\" onclick=\"convertToInteractive('df-4178bb22-ee75-4fc8-936c-66f83ea8f3cd')\"\n",
              "              title=\"Convert this dataframe to an interactive table.\"\n",
              "              style=\"display:none;\">\n",
              "        \n",
              "  <svg xmlns=\"http://www.w3.org/2000/svg\" height=\"24px\"viewBox=\"0 0 24 24\"\n",
              "       width=\"24px\">\n",
              "    <path d=\"M0 0h24v24H0V0z\" fill=\"none\"/>\n",
              "    <path d=\"M18.56 5.44l.94 2.06.94-2.06 2.06-.94-2.06-.94-.94-2.06-.94 2.06-2.06.94zm-11 1L8.5 8.5l.94-2.06 2.06-.94-2.06-.94L8.5 2.5l-.94 2.06-2.06.94zm10 10l.94 2.06.94-2.06 2.06-.94-2.06-.94-.94-2.06-.94 2.06-2.06.94z\"/><path d=\"M17.41 7.96l-1.37-1.37c-.4-.4-.92-.59-1.43-.59-.52 0-1.04.2-1.43.59L10.3 9.45l-7.72 7.72c-.78.78-.78 2.05 0 2.83L4 21.41c.39.39.9.59 1.41.59.51 0 1.02-.2 1.41-.59l7.78-7.78 2.81-2.81c.8-.78.8-2.07 0-2.86zM5.41 20L4 18.59l7.72-7.72 1.47 1.35L5.41 20z\"/>\n",
              "  </svg>\n",
              "      </button>\n",
              "      \n",
              "  <style>\n",
              "    .colab-df-container {\n",
              "      display:flex;\n",
              "      flex-wrap:wrap;\n",
              "      gap: 12px;\n",
              "    }\n",
              "\n",
              "    .colab-df-convert {\n",
              "      background-color: #E8F0FE;\n",
              "      border: none;\n",
              "      border-radius: 50%;\n",
              "      cursor: pointer;\n",
              "      display: none;\n",
              "      fill: #1967D2;\n",
              "      height: 32px;\n",
              "      padding: 0 0 0 0;\n",
              "      width: 32px;\n",
              "    }\n",
              "\n",
              "    .colab-df-convert:hover {\n",
              "      background-color: #E2EBFA;\n",
              "      box-shadow: 0px 1px 2px rgba(60, 64, 67, 0.3), 0px 1px 3px 1px rgba(60, 64, 67, 0.15);\n",
              "      fill: #174EA6;\n",
              "    }\n",
              "\n",
              "    [theme=dark] .colab-df-convert {\n",
              "      background-color: #3B4455;\n",
              "      fill: #D2E3FC;\n",
              "    }\n",
              "\n",
              "    [theme=dark] .colab-df-convert:hover {\n",
              "      background-color: #434B5C;\n",
              "      box-shadow: 0px 1px 3px 1px rgba(0, 0, 0, 0.15);\n",
              "      filter: drop-shadow(0px 1px 2px rgba(0, 0, 0, 0.3));\n",
              "      fill: #FFFFFF;\n",
              "    }\n",
              "  </style>\n",
              "\n",
              "      <script>\n",
              "        const buttonEl =\n",
              "          document.querySelector('#df-4178bb22-ee75-4fc8-936c-66f83ea8f3cd button.colab-df-convert');\n",
              "        buttonEl.style.display =\n",
              "          google.colab.kernel.accessAllowed ? 'block' : 'none';\n",
              "\n",
              "        async function convertToInteractive(key) {\n",
              "          const element = document.querySelector('#df-4178bb22-ee75-4fc8-936c-66f83ea8f3cd');\n",
              "          const dataTable =\n",
              "            await google.colab.kernel.invokeFunction('convertToInteractive',\n",
              "                                                     [key], {});\n",
              "          if (!dataTable) return;\n",
              "\n",
              "          const docLinkHtml = 'Like what you see? Visit the ' +\n",
              "            '<a target=\"_blank\" href=https://colab.research.google.com/notebooks/data_table.ipynb>data table notebook</a>'\n",
              "            + ' to learn more about interactive tables.';\n",
              "          element.innerHTML = '';\n",
              "          dataTable['output_type'] = 'display_data';\n",
              "          await google.colab.output.renderOutput(dataTable, element);\n",
              "          const docLink = document.createElement('div');\n",
              "          docLink.innerHTML = docLinkHtml;\n",
              "          element.appendChild(docLink);\n",
              "        }\n",
              "      </script>\n",
              "    </div>\n",
              "  </div>\n",
              "  "
            ]
          },
          "metadata": {},
          "execution_count": 2
        }
      ]
    },
    {
      "cell_type": "markdown",
      "source": [
        "**Degree Centrality**"
      ],
      "metadata": {
        "id": "4KqGeqfTaECG"
      }
    },
    {
      "cell_type": "code",
      "source": [
        "G = nx.from_pandas_edgelist(data, source = 'Mhs1', target = 'Mhs2')\n",
        "\n",
        "degree_centrality = nx.degree_centrality(G)\n",
        "\n",
        "\n",
        "print('Degree Centrality: ')\n",
        "print(degree_centrality)\n"
      ],
      "metadata": {
        "colab": {
          "base_uri": "https://localhost:8080/"
        },
        "id": "qS7a4N3ZKzJT",
        "outputId": "ea6826f4-8bd7-40d9-9cf6-0da18287952d"
      },
      "execution_count": null,
      "outputs": [
        {
          "output_type": "stream",
          "name": "stdout",
          "text": [
            "Degree Centrality: \n",
            "{'Alifia': 0.2777777777777778, 'Laksmi': 0.16666666666666666, 'Faldo': 0.16666666666666666, 'Gery': 0.1111111111111111, 'Lulu': 0.05555555555555555, 'Dila': 0.1111111111111111, 'Virgi': 0.1111111111111111, 'Popy': 0.05555555555555555, 'Galuh': 0.16666666666666666, 'Luthfi': 0.16666666666666666, 'Azka': 0.1111111111111111, 'Latif': 0.2222222222222222, 'Fajar': 0.05555555555555555, 'Abdurahman': 0.16666666666666666, 'Putu': 0.2222222222222222, 'Mirza': 0.1111111111111111, 'Akbar': 0.05555555555555555, 'Gayuh': 0.05555555555555555, 'Indah': 0.05555555555555555}\n"
          ]
        }
      ]
    },
    {
      "cell_type": "markdown",
      "source": [
        "**Betweeness**"
      ],
      "metadata": {
        "id": "Uh2o8VZMaS5M"
      }
    },
    {
      "cell_type": "code",
      "source": [
        "betweenness_centrality = nx.betweenness_centrality(G)\n",
        "\n",
        "print('Betweenness Centralitty: ')\n",
        "print(betweenness_centrality)"
      ],
      "metadata": {
        "colab": {
          "base_uri": "https://localhost:8080/"
        },
        "id": "vrnJ1gqnaAAr",
        "outputId": "f2a85cac-9622-42f9-c7aa-21329049208e"
      },
      "execution_count": null,
      "outputs": [
        {
          "output_type": "stream",
          "name": "stdout",
          "text": [
            "Betweenness Centralitty: \n",
            "{'Alifia': 0.33986928104575165, 'Laksmi': 0.0392156862745098, 'Faldo': 0.0392156862745098, 'Gery': 0.0, 'Lulu': 0.0, 'Dila': 0.013071895424836602, 'Virgi': 0.013071895424836602, 'Popy': 0.0, 'Galuh': 0.3366013071895425, 'Luthfi': 0.14379084967320263, 'Azka': 0.0, 'Latif': 0.11437908496732027, 'Fajar': 0.0, 'Abdurahman': 0.05555555555555556, 'Putu': 0.17973856209150327, 'Mirza': 0.0, 'Akbar': 0.0, 'Gayuh': 0.0, 'Indah': 0.0}\n"
          ]
        }
      ]
    },
    {
      "cell_type": "code",
      "source": [
        "pos = nx.spring_layout(G)\n",
        "nx.draw_networkx_nodes(G, pos, node_size = 100, node_color = list(betweenness_centrality.values()), cmap = plt.cm.Purples)\n",
        "\n",
        "nx.draw_networkx_edges(G, pos)\n",
        "nx.draw_networkx_labels(G, pos)\n",
        "\n",
        "max_bc = max(betweenness_centrality.values())\n",
        "high_bc_nodes = [k for k, v in betweenness_centrality.items() if v == max_bc]\n",
        "nx.draw_networkx_nodes(G, pos, nodelist = high_bc_nodes, node_size = 200, node_color = 'r')\n",
        "\n",
        "plt.show()"
      ],
      "metadata": {
        "colab": {
          "base_uri": "https://localhost:8080/",
          "height": 406
        },
        "id": "sRBX_alvL-sb",
        "outputId": "128a8334-8d1f-4674-cafe-88dea083f330"
      },
      "execution_count": null,
      "outputs": [
        {
          "output_type": "display_data",
          "data": {
            "text/plain": [
              "<Figure size 640x480 with 1 Axes>"
            ],
            "image/png": "[encoded data removed]"
          },
          "metadata": {}
        }
      ]
    },
    {
      "cell_type": "markdown",
      "source": [
        "**Closeness Centrality**"
      ],
      "metadata": {
        "id": "HvrOWjcubAOf"
      }
    },
    {
      "cell_type": "code",
      "source": [
        "closeness_centrality = nx.closeness_centrality(G)\n",
        "\n",
        "print(\"Closeness Centrality: \")\n",
        "print(closeness_centrality)"
      ],
      "metadata": {
        "colab": {
          "base_uri": "https://localhost:8080/"
        },
        "id": "7l33iR-Yacv5",
        "outputId": "ff1d7afe-59b5-46b6-8869-e5f6d616b22c"
      },
      "execution_count": null,
      "outputs": [
        {
          "output_type": "stream",
          "name": "stdout",
          "text": [
            "Closeness Centrality: \n",
            "{'Alifia': 0.362962962962963, 'Laksmi': 0.2722222222222222, 'Faldo': 0.2722222222222222, 'Gery': 0.2094017094017094, 'Lulu': 0.08333333333333333, 'Dila': 0.125, 'Virgi': 0.125, 'Popy': 0.08333333333333333, 'Galuh': 0.40329218106995884, 'Luthfi': 0.32996632996632996, 'Azka': 0.25925925925925924, 'Latif': 0.2942942942942943, 'Fajar': 0.2177777777777778, 'Abdurahman': 0.2942942942942943, 'Putu': 0.3402777777777778, 'Mirza': 0.26558265582655827, 'Akbar': 0.2419753086419753, 'Gayuh': 0.25322997416020676, 'Indah': 0.25322997416020676}\n"
          ]
        }
      ]
    },
    {
      "cell_type": "code",
      "source": [
        "a = nx.spring_layout(G)\n",
        "nx.draw_networkx_nodes(G, a, node_size = 150, node_color = list(closeness_centrality.values()), cmap = plt.cm.Blues)\n",
        "nx.draw_networkx_edges(G, a)\n",
        "nx.draw_networkx_labels(G, a)\n",
        "\n",
        "plt.show()"
      ],
      "metadata": {
        "colab": {
          "base_uri": "https://localhost:8080/",
          "height": 406
        },
        "id": "rawyjfq2N-so",
        "outputId": "fa247e66-2b05-4496-a581-0f1ad7f2ac11"
      },
      "execution_count": null,
      "outputs": [
        {
          "output_type": "display_data",
          "data": {
            "text/plain": [
              "<Figure size 640x480 with 1 Axes>"
            ],
            "image/png": "[encoded data removed]"
          },
          "metadata": {}
        }
      ]
    },
    {
      "cell_type": "markdown",
      "source": [
        "mahasiswa terpopuler adalah Galuh"
      ],
      "metadata": {
        "id": "k9q-p_XRbw_R"
      }
    }
  ]
}